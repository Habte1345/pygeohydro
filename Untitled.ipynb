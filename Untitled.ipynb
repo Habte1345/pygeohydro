{
 "cells": [
  {
   "cell_type": "code",
   "execution_count": 1,
   "metadata": {},
   "outputs": [],
   "source": [
    "from hydrodata import utils\n",
    "from pathlib import Path"
   ]
  },
  {
   "cell_type": "raw",
   "metadata": {},
   "source": [
    "stations = [{\"start\" : '2000-01-01',\n",
    "            \"end\" : '2015-12-31',\n",
    "            \"station_id\" : '01467087',\n",
    "            \"data_dir\" : 'examples/data',\n",
    "            \"climate\" : True,\n",
    "            \"nlcd\" : True,\n",
    "            \"years\" : {'impervious': 2011, 'cover': 2011, 'canopy': 2011},\n",
    "            \"rain_snow\" : True,\n",
    "            \"phenology\" : True},\n",
    "           {\"start\" : '2000-01-01',\n",
    "            \"end\" : '2015-12-31',\n",
    "            \"coords\" : (-76.43, 41.08),\n",
    "            \"data_dir\" : 'examples/data',\n",
    "            \"climate\" : True}]"
   ]
  },
  {
   "cell_type": "raw",
   "metadata": {},
   "source": [
    "import time\n",
    "\n",
    "t0 = time.time()\n",
    "dpaths = utils.batch(stations)\n",
    "t1 = time.time()\n",
    "t1-t0"
   ]
  },
  {
   "cell_type": "markdown",
   "metadata": {},
   "source": [
    "with multiprocess: 102.17063426971436\n",
    "\n",
    "with ThreadPoolExecutor: 54.129507064819336\n",
    "\n",
    "with ProcessPoolExecutor: 78.2123670578003"
   ]
  },
  {
   "cell_type": "code",
   "execution_count": 2,
   "metadata": {},
   "outputs": [],
   "source": [
    "lon, lat = -69.32, 45.17\n",
    "start = '2005-01-01'\n",
    "end = '2005-05-21'"
   ]
  },
  {
   "cell_type": "code",
   "execution_count": 3,
   "metadata": {},
   "outputs": [],
   "source": [
    "from hydrodata.datasets import deymet_bypoint\n",
    "\n",
    "df1 = deymet_bypoint(lon, lat, start=start, end=end, pet=True, pheonolgy=False)"
   ]
  },
  {
   "cell_type": "code",
   "execution_count": 4,
   "metadata": {},
   "outputs": [],
   "source": [
    "import eto\n",
    "\n",
    "df = df1[[\"tmax (deg c)\", \"tmin (deg c)\", \"vp (Pa)\"]].copy()\n",
    "df.columns = [\"T_max\", \"T_min\", \"e_a\"]\n",
    "df[\"R_s\"] = df1['srad (W/m^2)'] * df1['dayl (s)'] * 1e-6  # to MJ/m2\n",
    "df[\"e_a\"] *= 1e-3  # to kPa\n",
    "\n",
    "et1 = eto.ETo()\n",
    "freq = \"D\"\n",
    "datum = utils.get_elevation(lon, lat)\n",
    "et1.param_est(\n",
    "    df[[\"R_s\", \"T_max\", \"T_min\", \"e_a\"]], freq, datum, lat, lon\n",
    ")\n",
    "pet = et1.eto_fao()"
   ]
  },
  {
   "cell_type": "code",
   "execution_count": 7,
   "metadata": {},
   "outputs": [],
   "source": [
    "from rrmpg.data import CAMELSLoader\n",
    "\n",
    "cam = CAMELSLoader().load_basin('01031500')\n",
    "cam = cam.loc[df1.index]"
   ]
  },
  {
   "cell_type": "code",
   "execution_count": 5,
   "metadata": {},
   "outputs": [],
   "source": [
    "from hydrodata.datasets import daymet_bybbox\n",
    "\n",
    "ext = 0.2\n",
    "bbox = [lon - 0.2, lat - 0.2, lon + 0.2, lat + 0.2]\n",
    "variables = [\"tmin\", \"tmax\", \"prcp\", \"vp\", \"srad\", \"dayl\"]\n",
    "gridded = daymet_bybbox(bbox, start=start, end=end, variables=variables, pet=True)"
   ]
  },
  {
   "cell_type": "code",
   "execution_count": 16,
   "metadata": {},
   "outputs": [
    {
     "data": {
      "text/html": [
       "<pre>&lt;xarray.Dataset&gt;\n",
       "Dimensions:                  (time: 141)\n",
       "Coordinates:\n",
       "    y                        float32 701.0\n",
       "    x                        float32 2249.75\n",
       "  * time                     (time) datetime64[ns] 2005-01-01T12:00:00 ... 2005-05-21T12:00:00\n",
       "Data variables:\n",
       "    lat                      float32 45.16596\n",
       "    lambert_conformal_conic  int16 -32767\n",
       "    lon                      float32 -69.31404\n",
       "    tmin                     (time) float32 -10.0 -13.5 -10.0 ... 3.5 2.5 4.5\n",
       "    tmax                     (time) float32 4.5 2.5 0.0 2.5 ... 15.5 16.5 15.5\n",
       "    vp                       (time) float32 280.0 200.0 ... 720.0 840.00006\n",
       "    srad                     (time) float32 ...\n",
       "    dayl                     (time) float32 ...\n",
       "    prcp                     (time) float32 ...\n",
       "    tmean                    (time) float32 -2.75 -5.5 -5.0 ... 9.5 9.5 10.0\n",
       "    pet                      (time) float32 0.8309242 0.7546398 ... 1.012965</pre>"
      ],
      "text/plain": [
       "<xarray.Dataset>\n",
       "Dimensions:                  (time: 141)\n",
       "Coordinates:\n",
       "    y                        float32 701.0\n",
       "    x                        float32 2249.75\n",
       "  * time                     (time) datetime64[ns] 2005-01-01T12:00:00 ... 2005-05-21T12:00:00\n",
       "Data variables:\n",
       "    lat                      float32 45.16596\n",
       "    lambert_conformal_conic  int16 -32767\n",
       "    lon                      float32 -69.31404\n",
       "    tmin                     (time) float32 -10.0 -13.5 -10.0 ... 3.5 2.5 4.5\n",
       "    tmax                     (time) float32 4.5 2.5 0.0 2.5 ... 15.5 16.5 15.5\n",
       "    vp                       (time) float32 280.0 200.0 ... 720.0 840.00006\n",
       "    srad                     (time) float32 ...\n",
       "    dayl                     (time) float32 ...\n",
       "    prcp                     (time) float32 ...\n",
       "    tmean                    (time) float32 -2.75 -5.5 -5.0 ... 9.5 9.5 10.0\n",
       "    pet                      (time) float32 0.8309242 0.7546398 ... 1.012965"
      ]
     },
     "execution_count": 16,
     "metadata": {},
     "output_type": "execute_result"
    }
   ],
   "source": [
    "gridded.isel(x=22, y=25)"
   ]
  },
  {
   "cell_type": "code",
   "execution_count": 14,
   "metadata": {},
   "outputs": [
    {
     "data": {
      "image/png": "[encoded data removed]",
      "text/plain": [
       "<Figure size 432x288 with 1 Axes>"
      ]
     },
     "metadata": {
      "needs_background": "light"
     },
     "output_type": "display_data"
    }
   ],
   "source": [
    "gridded.isel(x=22, y=25).pet.plot()\n",
    "pet.plot()\n",
    "cam.PET.plot()\n",
    "df1['pet (mm/day)'].plot();"
   ]
  },
  {
   "cell_type": "code",
   "execution_count": null,
   "metadata": {},
   "outputs": [],
   "source": [
    "years = [2010, 2005]\n",
    "df2 = deymet_bypoint(lon, lat, years=years, pet=True, pheonolgy=True)"
   ]
  },
  {
   "cell_type": "code",
   "execution_count": null,
   "metadata": {},
   "outputs": [],
   "source": [
    "from hydrodata.datasets import NLDI\n",
    "\n",
    "wshed = NLDI(station_id=\"08279500\")\n",
    "starting_comid = wshed.comid\n",
    "basin = wshed.basin\n",
    "tribs = wshed.get_river_network(navigation=\"upstreamTributaries\")\n",
    "main = wshed.get_river_network(navigation=\"upstreamMain\")\n",
    "# main_flowline = wshed.get_nhdplus_byid(comids=main.index.values)\n",
    "# tribs_flowline = wshed.get_nhdplus_byid(comids=tribs.index.values)\n",
    "bbox_flowline = wshed.get_nhdplus_bybox(bbox=basin.bounds.values[0])\n",
    "stations = wshed.get_stations()\n",
    "stations_upto_150 = wshed.get_stations(navigation=\"upstreamMain\", distance=150)"
   ]
  },
  {
   "cell_type": "code",
   "execution_count": null,
   "metadata": {},
   "outputs": [],
   "source": [
    "import matplotlib as mpl\n",
    "\n",
    "mpl.rcParams['figure.dpi'] = 300\n",
    "mpl.rcParams['figure.figsize'] = [10, 10]"
   ]
  },
  {
   "cell_type": "code",
   "execution_count": null,
   "metadata": {},
   "outputs": [],
   "source": [
    "ax = basin.plot(color='white', edgecolor='black', zorder=1)\n",
    "tribs.plot(ax=ax, label='Tributaries', zorder=2)\n",
    "main.plot(ax=ax, color='green', lw=3, label='Main', zorder=3)\n",
    "stations.plot(ax=ax, color='black', label='All stations', marker='s', zorder=4)\n",
    "stations_upto_150.plot(ax=ax, color='red', label='Stations up to 150 km upstream of main', marker='*', zorder=5)\n",
    "ax.legend(loc='best');\n",
    "# ax.figure.savefig('basin.png')"
   ]
  },
  {
   "cell_type": "code",
   "execution_count": null,
   "metadata": {},
   "outputs": [],
   "source": [
    "from owslib.wms import WebMapService"
   ]
  },
  {
   "cell_type": "code",
   "execution_count": null,
   "metadata": {},
   "outputs": [],
   "source": [
    "url = \"https://www.mrlc.gov/geoserver/mrlc_download/wms?service=WMS,request=GetCapabilities\""
   ]
  },
  {
   "cell_type": "code",
   "execution_count": null,
   "metadata": {},
   "outputs": [],
   "source": [
    "wms = WebMapService(url, version=\"1.3.0\")"
   ]
  },
  {
   "cell_type": "code",
   "execution_count": null,
   "metadata": {},
   "outputs": [],
   "source": [
    "list(wms.contents)"
   ]
  },
  {
   "cell_type": "code",
   "execution_count": null,
   "metadata": {},
   "outputs": [],
   "source": [
    "import rasterio\n",
    "import rasterio.mask\n",
    "from rasterio.plot import show\n",
    "import matplotlib.pyplot as plt"
   ]
  },
  {
   "cell_type": "code",
   "execution_count": null,
   "metadata": {},
   "outputs": [],
   "source": [
    "bbox = [-75.19327604018878, 40.00705187503387, -75.07818476502987, 40.123941407666074]"
   ]
  },
  {
   "cell_type": "code",
   "execution_count": null,
   "metadata": {},
   "outputs": [],
   "source": [
    "width = 2000\n",
    "height = int(np.abs(bbox[1] - bbox[3]) / np.abs(bbox[0] - bbox[2]) * width)"
   ]
  },
  {
   "cell_type": "code",
   "execution_count": null,
   "metadata": {},
   "outputs": [],
   "source": [
    "img = wms.getmap(\n",
    "    layers=['NLCD_2011_Tree_Canopy_L48', 'NLCD_2011_Land_Cover_Science_product_L48', 'NLCD_2011_Impervious_L48'],\n",
    "    srs=\"epsg:4326\",\n",
    "    bbox=bbox,\n",
    "    size=(width, height),\n",
    "    format=\"image/geotiff\",\n",
    "    transparent=True,\n",
    ")"
   ]
  },
  {
   "cell_type": "code",
   "execution_count": null,
   "metadata": {},
   "outputs": [],
   "source": [
    "with open('nlcd.geotif', \"wb\") as out:\n",
    "    with rasterio.MemoryFile() as memfile:\n",
    "        memfile.write(img.read())\n",
    "        with memfile.open() as dataset:\n",
    "#             data = dataset.read()\n",
    "            out_image, out_transform = rasterio.mask.mask(\n",
    "                dataset, [geom], crop=True\n",
    "            )\n",
    "            out_meta = src.meta\n",
    "            out_meta.update(\n",
    "                {\n",
    "                    \"driver\": \"GTiff\",\n",
    "                    \"height\": out_image.shape[1],\n",
    "                    \"width\": out_image.shape[2],\n",
    "                    \"transform\": out_transform,\n",
    "                    \"layer 1\" : 'Canoy 2011',\n",
    "                    \"layer 2\" : 'Cover 2011',\n",
    "                    \"layer 3\" : 'Impervious 2011'\n",
    "                }\n",
    "            )\n",
    "\n",
    "with rasterio.open('nlcd.geotif', \"w\", **out_meta) as dest:\n",
    "    dest.write(out_image)"
   ]
  },
  {
   "cell_type": "code",
   "execution_count": null,
   "metadata": {},
   "outputs": [],
   "source": [
    "out_meta"
   ]
  },
  {
   "cell_type": "code",
   "execution_count": null,
   "metadata": {},
   "outputs": [],
   "source": [
    "np.unique(out_image[1])"
   ]
  },
  {
   "cell_type": "code",
   "execution_count": null,
   "metadata": {},
   "outputs": [],
   "source": [
    "fig, (ax1, ax2, ax3) = plt.subplots(1, 3, figsize=(21, 7), dpi=300)\n",
    "show(out_image[0], ax=ax1, title=f'Canopy 2011')\n",
    "show(out_image[1], ax=ax2, title=f'Cover 2011')\n",
    "show(out_image[2], ax=ax3, title=f'Impervious 2011');"
   ]
  }
 ],
 "metadata": {
  "kernelspec": {
   "display_name": "Python 3",
   "language": "python",
   "name": "python3"
  },
  "language_info": {
   "codemirror_mode": {
    "name": "ipython",
    "version": 3
   },
   "file_extension": ".py",
   "mimetype": "text/x-python",
   "name": "python",
   "nbconvert_exporter": "python",
   "pygments_lexer": "ipython3",
   "version": "3.8.1"
  }
 },
 "nbformat": 4,
 "nbformat_minor": 4
}
