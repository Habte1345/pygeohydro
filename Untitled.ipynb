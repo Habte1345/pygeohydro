{
 "cells": [
  {
   "cell_type": "code",
   "execution_count": 1,
   "metadata": {},
   "outputs": [],
   "source": [
    "from hydrodata import utils\n",
    "import time"
   ]
  },
  {
   "cell_type": "code",
   "execution_count": null,
   "metadata": {},
   "outputs": [],
   "source": [
    "stations = [{\"start\" : '2000-01-01',\n",
    "            \"end\" : '2015-12-31',\n",
    "            \"station_id\" : '01467087',\n",
    "            \"data_dir\" : 'examples/data',\n",
    "            \"climate\" : True,\n",
    "            \"nlcd\" : True,\n",
    "            \"years\" : {'impervious': 2011, 'cover': 2011, 'canopy': 2011},\n",
    "            \"rain_snow\" : True,\n",
    "            \"phenology\" : True},\n",
    "           {\"start\" : '2000-01-01',\n",
    "            \"end\" : '2015-12-31',\n",
    "            \"coords\" : (-76.43, 41.08),\n",
    "            \"data_dir\" : 'examples/data',\n",
    "            \"climate\" : True}]"
   ]
  },
  {
   "cell_type": "code",
   "execution_count": null,
   "metadata": {},
   "outputs": [],
   "source": [
    "t0 = time.time()\n",
    "dpaths = utils.batch(stations)\n",
    "t1 = time.time()\n",
    "t1-t0"
   ]
  },
  {
   "cell_type": "markdown",
   "metadata": {},
   "source": [
    "with multiprocess: 102.17063426971436\n",
    "\n",
    "with ThreadPoolExecutor: 54.129507064819336\n",
    "\n",
    "with ProcessPoolExecutor: 78.2123670578003"
   ]
  },
  {
   "cell_type": "code",
   "execution_count": null,
   "metadata": {},
   "outputs": [],
   "source": [
    "from hydrodata.datasets import deymet_singlepixel\n",
    "\n",
    "lon, lat = -75.0, 40.0\n",
    "start = '2011-04-21'\n",
    "end = '2011-11-28'\n",
    "data = deymet_singlepixel(lon, lat, start, end, pet=True, pheonolgy=False)"
   ]
  },
  {
   "cell_type": "code",
   "execution_count": 2,
   "metadata": {},
   "outputs": [],
   "source": [
    "from hydrodata.datasets import daymet_gridded\n",
    "\n",
    "bbox = [-107.55950984,   35.97227243, -105.12966542,   37.97470017]\n",
    "start_date = '2011-04-21'\n",
    "end_date = '2011-07-28'\n",
    "variables = [\"tmin\", \"tmax\", \"prcp\", \"vp\", \"srad\", \"dayl\"]\n",
    "df = daymet_gridded(start_date, end_date, variables, bbox)"
   ]
  },
  {
   "cell_type": "code",
   "execution_count": 20,
   "metadata": {},
   "outputs": [],
   "source": [
    "coords = [(i, j) for i, j in zip(df.sel(time=start_date).lon.values.flatten(),\n",
    "                                 df.sel(time=start_date).lat.values.flatten())]"
   ]
  },
  {
   "cell_type": "code",
   "execution_count": null,
   "metadata": {},
   "outputs": [],
   "source": [
    "from hydrodata.datasets import NLDI\n",
    "\n",
    "wshed = NLDI(station_id=\"08279500\")\n",
    "starting_comid = wshed.comid\n",
    "basin = wshed.basin\n",
    "tribs = wshed.get_river_network(navigation=\"upstreamTributaries\")\n",
    "main = wshed.get_river_network(navigation=\"upstreamMain\")\n",
    "# main_flowline = wshed.get_nhdplus_byid(comids=main.index.values)\n",
    "# tribs_flowline = wshed.get_nhdplus_byid(comids=tribs.index.values)\n",
    "bbox_flowline = wshed.get_nhdplus_bybox(bbox=basin.bounds.values[0])\n",
    "stations = wshed.get_stations()\n",
    "stations_upto_150 = wshed.get_stations(navigation=\"upstreamMain\", distance=150)"
   ]
  },
  {
   "cell_type": "code",
   "execution_count": null,
   "metadata": {},
   "outputs": [],
   "source": [
    "import matplotlib as mpl\n",
    "\n",
    "mpl.rcParams['figure.dpi'] = 300\n",
    "mpl.rcParams['figure.figsize'] = [10, 10]"
   ]
  },
  {
   "cell_type": "code",
   "execution_count": null,
   "metadata": {},
   "outputs": [],
   "source": [
    "ax = basin.plot(color='white', edgecolor='black', zorder=1)\n",
    "tribs.plot(ax=ax, label='Tributaries', zorder=2)\n",
    "main.plot(ax=ax, color='green', lw=3, label='Main', zorder=3)\n",
    "stations.plot(ax=ax, color='black', label='All stations', marker='s', zorder=4)\n",
    "stations_upto_150.plot(ax=ax, color='red', label='Stations up to 150 km upstream of main', marker='*', zorder=5)\n",
    "ax.legend(loc='best');\n",
    "# ax.figure.savefig('basin.png')"
   ]
  },
  {
   "cell_type": "code",
   "execution_count": null,
   "metadata": {},
   "outputs": [],
   "source": [
    "from owslib.wms import WebMapService"
   ]
  },
  {
   "cell_type": "code",
   "execution_count": null,
   "metadata": {},
   "outputs": [],
   "source": [
    "url = \"https://www.mrlc.gov/geoserver/mrlc_download/wms?service=WMS,request=GetCapabilities\""
   ]
  },
  {
   "cell_type": "code",
   "execution_count": null,
   "metadata": {},
   "outputs": [],
   "source": [
    "wms = WebMapService(url, version=\"1.3.0\")"
   ]
  },
  {
   "cell_type": "code",
   "execution_count": null,
   "metadata": {},
   "outputs": [],
   "source": [
    "list(wms.contents)"
   ]
  },
  {
   "cell_type": "code",
   "execution_count": null,
   "metadata": {},
   "outputs": [],
   "source": [
    "import rasterio\n",
    "import rasterio.mask\n",
    "from rasterio.plot import show\n",
    "import matplotlib.pyplot as plt"
   ]
  },
  {
   "cell_type": "code",
   "execution_count": null,
   "metadata": {},
   "outputs": [],
   "source": [
    "bbox = [-75.19327604018878, 40.00705187503387, -75.07818476502987, 40.123941407666074]"
   ]
  },
  {
   "cell_type": "code",
   "execution_count": null,
   "metadata": {},
   "outputs": [],
   "source": [
    "width = 2000\n",
    "height = int(np.abs(bbox[1] - bbox[3]) / np.abs(bbox[0] - bbox[2]) * width)"
   ]
  },
  {
   "cell_type": "code",
   "execution_count": null,
   "metadata": {},
   "outputs": [],
   "source": [
    "img = wms.getmap(\n",
    "    layers=['NLCD_2011_Tree_Canopy_L48', 'NLCD_2011_Land_Cover_Science_product_L48', 'NLCD_2011_Impervious_L48'],\n",
    "    srs=\"epsg:4326\",\n",
    "    bbox=bbox,\n",
    "    size=(width, height),\n",
    "    format=\"image/geotiff\",\n",
    "    transparent=True,\n",
    ")"
   ]
  },
  {
   "cell_type": "code",
   "execution_count": null,
   "metadata": {},
   "outputs": [],
   "source": [
    "with open('nlcd.geotif', \"wb\") as out:\n",
    "    with rasterio.MemoryFile() as memfile:\n",
    "        memfile.write(img.read())\n",
    "        with memfile.open() as dataset:\n",
    "#             data = dataset.read()\n",
    "            out_image, out_transform = rasterio.mask.mask(\n",
    "                dataset, [geom], crop=True\n",
    "            )\n",
    "            out_meta = src.meta\n",
    "            out_meta.update(\n",
    "                {\n",
    "                    \"driver\": \"GTiff\",\n",
    "                    \"height\": out_image.shape[1],\n",
    "                    \"width\": out_image.shape[2],\n",
    "                    \"transform\": out_transform,\n",
    "                    \"layer 1\" : 'Canoy 2011',\n",
    "                    \"layer 2\" : 'Cover 2011',\n",
    "                    \"layer 3\" : 'Impervious 2011'\n",
    "                }\n",
    "            )\n",
    "\n",
    "with rasterio.open('nlcd.geotif', \"w\", **out_meta) as dest:\n",
    "    dest.write(out_image)"
   ]
  },
  {
   "cell_type": "code",
   "execution_count": null,
   "metadata": {},
   "outputs": [],
   "source": [
    "out_meta"
   ]
  },
  {
   "cell_type": "code",
   "execution_count": null,
   "metadata": {},
   "outputs": [],
   "source": [
    "np.unique(out_image[1])"
   ]
  },
  {
   "cell_type": "code",
   "execution_count": null,
   "metadata": {},
   "outputs": [],
   "source": [
    "fig, (ax1, ax2, ax3) = plt.subplots(1, 3, figsize=(21, 7), dpi=300)\n",
    "show(out_image[0], ax=ax1, title=f'Canopy 2011')\n",
    "show(out_image[1], ax=ax2, title=f'Cover 2011')\n",
    "show(out_image[2], ax=ax3, title=f'Impervious 2011');"
   ]
  }
 ],
 "metadata": {
  "kernelspec": {
   "display_name": "Python 3",
   "language": "python",
   "name": "python3"
  },
  "language_info": {
   "codemirror_mode": {
    "name": "ipython",
    "version": 3
   },
   "file_extension": ".py",
   "mimetype": "text/x-python",
   "name": "python",
   "nbconvert_exporter": "python",
   "pygments_lexer": "ipython3",
   "version": "3.8.1"
  }
 },
 "nbformat": 4,
 "nbformat_minor": 4
}
