{
 "cells": [
  {
   "cell_type": "code",
   "execution_count": 1,
   "metadata": {},
   "outputs": [],
   "source": [
    "from hydrodata import utils"
   ]
  },
  {
   "cell_type": "code",
   "execution_count": 2,
   "metadata": {},
   "outputs": [],
   "source": [
    "stations = [{\"start\" : '2000-01-01',\n",
    "            \"end\" : '2015-12-31',\n",
    "            \"station_id\" : '01467087',\n",
    "            \"data_dir\" : 'examples/data',\n",
    "            \"climate\" : True,\n",
    "            \"nlcd\" : True,\n",
    "            \"years\" : {'impervious': 2011, 'cover': 2011, 'canopy': 2011},\n",
    "            \"rain_snow\" : True,\n",
    "            \"phenology\" : True},\n",
    "           {\"start\" : '2000-01-01',\n",
    "            \"end\" : '2015-12-31',\n",
    "            \"coords\" : (-76.43, 41.08),\n",
    "            \"data_dir\" : 'examples/data',\n",
    "            \"climate\" : True}]"
   ]
  },
  {
   "cell_type": "code",
   "execution_count": 3,
   "metadata": {},
   "outputs": [
    {
     "name": "stdout",
     "output_type": "stream",
     "text": [
      "Processing queries in batch with 2 processors ...\n",
      "[ID: 01467087] Downloading watershed characteristics using StreamStats service >>>\n",
      "[ID: 01539000] Downloading watershed characteristics using StreamStats service >>>\n",
      "[ID: 01467087] The watershed data saved to examples/data/01467087/watershed.json.\n",
      "[ID: 01467087] The station is located in the Frankford Creek at Castor Ave, Philadelphia, PA watershed\n",
      "[ID: 01467087] Downloading climate data from the Daymet database >>>\n",
      "[ID: 01539000] The watershed data saved to examples/data/01539000/watershed.json.\n",
      "[ID: 01539000] The station is located in the Fishing Creek near Bloomsburg, PA watershed\n",
      "[ID: 01539000] Downloading climate data from the Daymet database >>>\n",
      "[ID: 01467087] Computing potential evapotranspiration (PET) using FAO method\n",
      "[ID: 01467087] Considering phenology in PET\n",
      "[ID: 01467087] Downloading stream flow data from USGS database >>>\n",
      "[ID: 01539000] Computing potential evapotranspiration (PET) using FAO method\n",
      "[ID: 01539000] Downloading stream flow data from USGS database >>>\n",
      "[ID: 01467087] Separating snow from precipitation\n",
      "[ID: 01467087] Climate data was saved to examples/data/01467087/20000101_20151231.nc\n",
      "[ID: 01467087] Downloading impervious data from NLCD 2011 database >>>\n",
      "[ID: 01539000] Climate data was saved to examples/data/01539000/20000101_20151231.nc\n",
      "[ID: 01467087] Impervious data was saved to examples/data/01467087/impervious_2011.geotiff\n",
      "[ID: 01467087] Downloading cover data from NLCD 2011 database >>>\n",
      "[ID: 01467087] Cover data was saved to examples/data/01467087/cover_2011.geotiff\n",
      "[ID: 01467087] Downloading canopy data from NLCD 2011 database >>>\n"
     ]
    },
    {
     "name": "stderr",
     "output_type": "stream",
     "text": [
      "/home/taher/.local/apps/miniconda/envs/hydrodata/lib/python3.8/site-packages/rasterio/mask.py:193: NodataShadowWarning: The dataset's nodata attribute is shadowing the alpha band. All masks will be determined by the nodata attribute\n",
      "  out_image = dataset.read(\n"
     ]
    },
    {
     "name": "stdout",
     "output_type": "stream",
     "text": [
      "[ID: 01467087] Canopy data was saved to examples/data/01467087/canopy_2011.geotiff\n",
      "All the jobs finished successfully.\n"
     ]
    }
   ],
   "source": [
    "dpaths = utils.batch(stations)"
   ]
  },
  {
   "cell_type": "code",
   "execution_count": 4,
   "metadata": {},
   "outputs": [],
   "source": [
    "st = utils.open_workspace('examples/data/')"
   ]
  },
  {
   "cell_type": "code",
   "execution_count": 5,
   "metadata": {},
   "outputs": [
    {
     "data": {
      "text/plain": [
       "[<xarray.Dataset>\n",
       " Dimensions:  (index: 5840)\n",
       " Coordinates:\n",
       "   * index    (index) datetime64[ns] 2000-01-01 2000-01-02 ... 2015-12-31\n",
       " Data variables:\n",
       "     prcp     (index) float64 ...\n",
       "     tmin     (index) float64 ...\n",
       "     tmax     (index) float64 ...\n",
       "     tmean    (index) float64 ...\n",
       "     pet      (index) float64 ...\n",
       "     qobs     (index) float64 ...\n",
       " Attributes:\n",
       "     alt_meter:  165.76243200000002\n",
       "     datum:      NGVD29\n",
       "     name:       Fishing Creek near Bloomsburg, PA\n",
       "     id:         01539000\n",
       "     lon:        -76.4313333\n",
       "     lat:        41.07814118]"
      ]
     },
     "execution_count": 5,
     "metadata": {},
     "output_type": "execute_result"
    }
   ],
   "source": [
    "st['01539000']['climates']"
   ]
  },
  {
   "cell_type": "code",
   "execution_count": null,
   "metadata": {},
   "outputs": [],
   "source": [
    "import geopandas as gpd"
   ]
  },
  {
   "cell_type": "code",
   "execution_count": null,
   "metadata": {},
   "outputs": [],
   "source": [
    "geom = gpd.read_file('examples/gis_data/01467087/geometry.shp')"
   ]
  },
  {
   "cell_type": "code",
   "execution_count": null,
   "metadata": {},
   "outputs": [],
   "source": [
    "df.attrs['geometry'] = geom"
   ]
  },
  {
   "cell_type": "code",
   "execution_count": null,
   "metadata": {},
   "outputs": [],
   "source": [
    "geom = df.geometry.values[0][1]"
   ]
  },
  {
   "cell_type": "code",
   "execution_count": null,
   "metadata": {},
   "outputs": [],
   "source": [
    "import requests"
   ]
  },
  {
   "cell_type": "code",
   "execution_count": null,
   "metadata": {},
   "outputs": [],
   "source": [
    "url = \"https://streamstats.usgs.gov/streamstatsservices/watershed.geojson\"\n",
    "payload = {\n",
    "    'rcode': 'PA',\n",
    "    'xlocation': -75.0968411,\n",
    "    'ylocation': 40.0159454,\n",
    "    'crs': 4326,\n",
    "    'includeparameters': True,\n",
    "    'includeflowtypes': False,\n",
    "    'includefeatures': True,\n",
    "    'simplify': False\n",
    "}\n",
    "r = requests.get(url, params=payload)"
   ]
  },
  {
   "cell_type": "code",
   "execution_count": null,
   "metadata": {},
   "outputs": [],
   "source": [
    "data = r.json()"
   ]
  },
  {
   "cell_type": "code",
   "execution_count": null,
   "metadata": {},
   "outputs": [],
   "source": [
    "for dictionary in data['featurecollection']:\n",
    "    if dictionary.get('name', '') == 'globalwatershed':\n",
    "        geom = dictionary['feature']"
   ]
  },
  {
   "cell_type": "code",
   "execution_count": null,
   "metadata": {},
   "outputs": [],
   "source": [
    "import geopandas as gpd"
   ]
  },
  {
   "cell_type": "code",
   "execution_count": null,
   "metadata": {},
   "outputs": [],
   "source": [
    "g= gpd.GeoDataFrame.from_features(geom)"
   ]
  },
  {
   "cell_type": "code",
   "execution_count": null,
   "metadata": {},
   "outputs": [],
   "source": [
    "g.geometry.bounds.values[0]"
   ]
  },
  {
   "cell_type": "code",
   "execution_count": null,
   "metadata": {},
   "outputs": [],
   "source": [
    "from owslib.wms import WebMapService"
   ]
  },
  {
   "cell_type": "code",
   "execution_count": null,
   "metadata": {},
   "outputs": [],
   "source": [
    "url = \"https://www.mrlc.gov/geoserver/mrlc_download/wms?service=WMS&request=GetCapabilities\""
   ]
  },
  {
   "cell_type": "code",
   "execution_count": null,
   "metadata": {},
   "outputs": [],
   "source": [
    "wms = WebMapService(url, version=\"1.3.0\")"
   ]
  },
  {
   "cell_type": "code",
   "execution_count": null,
   "metadata": {},
   "outputs": [],
   "source": [
    "list(wms.contents)"
   ]
  },
  {
   "cell_type": "code",
   "execution_count": null,
   "metadata": {},
   "outputs": [],
   "source": [
    "import rasterio\n",
    "import rasterio.mask\n",
    "from rasterio.plot import show\n",
    "import matplotlib.pyplot as plt"
   ]
  },
  {
   "cell_type": "code",
   "execution_count": null,
   "metadata": {},
   "outputs": [],
   "source": [
    "bbox = [-75.19327604018878, 40.00705187503387, -75.07818476502987, 40.123941407666074]"
   ]
  },
  {
   "cell_type": "code",
   "execution_count": null,
   "metadata": {},
   "outputs": [],
   "source": [
    "width = 2000\n",
    "height = int(np.abs(bbox[1] - bbox[3]) / np.abs(bbox[0] - bbox[2]) * width)"
   ]
  },
  {
   "cell_type": "code",
   "execution_count": null,
   "metadata": {},
   "outputs": [],
   "source": [
    "img = wms.getmap(\n",
    "    layers=['NLCD_2011_Tree_Canopy_L48', 'NLCD_2011_Land_Cover_Science_product_L48', 'NLCD_2011_Impervious_L48'],\n",
    "    srs=\"epsg:4326\",\n",
    "    bbox=bbox,\n",
    "    size=(width, height),\n",
    "    format=\"image/geotiff\",\n",
    "    transparent=True,\n",
    ")"
   ]
  },
  {
   "cell_type": "code",
   "execution_count": null,
   "metadata": {},
   "outputs": [],
   "source": [
    "with open('nlcd.geotif', \"wb\") as out:\n",
    "    with rasterio.MemoryFile() as memfile:\n",
    "        memfile.write(img.read())\n",
    "        with memfile.open() as dataset:\n",
    "#             data = dataset.read()\n",
    "            out_image, out_transform = rasterio.mask.mask(\n",
    "                dataset, [geom], crop=True\n",
    "            )\n",
    "            out_meta = src.meta\n",
    "            out_meta.update(\n",
    "                {\n",
    "                    \"driver\": \"GTiff\",\n",
    "                    \"height\": out_image.shape[1],\n",
    "                    \"width\": out_image.shape[2],\n",
    "                    \"transform\": out_transform,\n",
    "                    \"layer 1\" : 'Canoy 2011',\n",
    "                    \"layer 2\" : 'Cover 2011',\n",
    "                    \"layer 3\" : 'Impervious 2011'\n",
    "                }\n",
    "            )\n",
    "\n",
    "with rasterio.open('nlcd.geotif', \"w\", **out_meta) as dest:\n",
    "    dest.write(out_image)"
   ]
  },
  {
   "cell_type": "code",
   "execution_count": null,
   "metadata": {},
   "outputs": [],
   "source": [
    "out_meta"
   ]
  },
  {
   "cell_type": "code",
   "execution_count": null,
   "metadata": {},
   "outputs": [],
   "source": [
    "np.unique(out_image[1])"
   ]
  },
  {
   "cell_type": "code",
   "execution_count": null,
   "metadata": {},
   "outputs": [],
   "source": [
    "fig, (ax1, ax2, ax3) = plt.subplots(1, 3, figsize=(21, 7), dpi=300)\n",
    "show(out_image[0], ax=ax1, title=f'Canopy 2011')\n",
    "show(out_image[1], ax=ax2, title=f'Cover 2011')\n",
    "show(out_image[2], ax=ax3, title=f'Impervious 2011');"
   ]
  }
 ],
 "metadata": {
  "kernelspec": {
   "display_name": "Python 3",
   "language": "python",
   "name": "python3"
  },
  "language_info": {
   "codemirror_mode": {
    "name": "ipython",
    "version": 3
   },
   "file_extension": ".py",
   "mimetype": "text/x-python",
   "name": "python",
   "nbconvert_exporter": "python",
   "pygments_lexer": "ipython3",
   "version": "3.8.1"
  }
 },
 "nbformat": 4,
 "nbformat_minor": 4
}
