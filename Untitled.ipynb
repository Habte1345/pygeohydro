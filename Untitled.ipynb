{
 "cells": [
  {
   "cell_type": "code",
   "execution_count": 84,
   "metadata": {},
   "outputs": [],
   "source": [
    "from hydrodata import utils"
   ]
  },
  {
   "cell_type": "code",
   "execution_count": null,
   "metadata": {},
   "outputs": [],
   "source": [
    "stations = [{\"start\" : '2000-01-01',\n",
    "            \"end\" : '2015-12-31',\n",
    "            \"station_id\" : '01467087',\n",
    "            \"data_dir\" : 'examples/data',\n",
    "            \"climate\" : True,\n",
    "            \"nlcd\" : True,\n",
    "            \"years\" : {'impervious': 2011, 'cover': 2011, 'canopy': 2011},\n",
    "            \"rain_snow\" : True},\n",
    "           {\"start\" : '2000-01-01',\n",
    "            \"end\" : '2015-12-31',\n",
    "            \"coords\" : (-76.43, 41.08),\n",
    "            \"data_dir\" : 'examples/data',\n",
    "            \"climate\" : True}]"
   ]
  },
  {
   "cell_type": "code",
   "execution_count": null,
   "metadata": {},
   "outputs": [],
   "source": [
    "import time\n",
    "\n",
    "t0 = time.time()\n",
    "dpaths = utils.batch(stations)\n",
    "t1 = time.time()\n",
    "t1-t0"
   ]
  },
  {
   "cell_type": "markdown",
   "metadata": {},
   "source": [
    "with multiprocess: 102.17063426971436\n",
    "\n",
    "with ThreadPoolExecutor: 54.129507064819336\n",
    "\n",
    "with ProcessPoolExecutor: 78.2123670578003"
   ]
  },
  {
   "cell_type": "code",
   "execution_count": 38,
   "metadata": {},
   "outputs": [],
   "source": [
    "url = 'https://edcintl.cr.usgs.gov/downloads/sciweb1/shared//uswem/web/conus/eta/modis_eta/daily/downloads/det2000001.modisSSEBopETactual.zip'"
   ]
  },
  {
   "cell_type": "code",
   "execution_count": 88,
   "metadata": {},
   "outputs": [],
   "source": [
    "import requests\n",
    "import socket\n",
    "from unittest.mock import patch\n",
    "\n",
    "orig_getaddrinfo = socket.getaddrinfo\n",
    "\n",
    "def getaddrinfoIPv4(host, port, family=0, type=0, proto=0, flags=0):\n",
    "    return orig_getaddrinfo(host=host, port=port, family=socket.AF_INET, type=type, proto=proto, flags=flags)\n",
    "\n",
    "with patch('socket.getaddrinfo', side_effect=getaddrinfoIPv4):\n",
    "    r = s.get(url)"
   ]
  },
  {
   "cell_type": "code",
   "execution_count": 42,
   "metadata": {},
   "outputs": [],
   "source": [
    "import zipfile\n",
    "import io\n",
    "\n",
    "z = zipfile.ZipFile(io.BytesIO(r.content))"
   ]
  },
  {
   "cell_type": "code",
   "execution_count": null,
   "metadata": {},
   "outputs": [],
   "source": [
    "z.read(z.filelist[0].filename)"
   ]
  },
  {
   "cell_type": "code",
   "execution_count": 43,
   "metadata": {},
   "outputs": [],
   "source": [
    "with rasterio.open(f\"zip://{fname}!{z.filelist[0].filename}.tif\") as src:"
   ]
  },
  {
   "cell_type": "code",
   "execution_count": 65,
   "metadata": {},
   "outputs": [],
   "source": [
    "from hydrodata import Station\n",
    "import rasterio.mask\n",
    "import xarray as xr"
   ]
  },
  {
   "cell_type": "code",
   "execution_count": 58,
   "metadata": {},
   "outputs": [
    {
     "name": "stdout",
     "output_type": "stream",
     "text": [
      "[ID: 01031500] Downloading upstream tributaries from NLDI >>> finished.\n",
      "[ID: 01031500] Downloading upstream main from NLDI >>> finished.\n",
      "[ID: 01031500] Downloading flowlines by ComIDs from NLDI >>> finished.\n",
      "[ID: 01031500] Downloading watershed geometry using NLDI service >>>\n",
      "[ID: 01031500] The watershed geometry saved to examples/data/01031500/geometry.gpkg.\n",
      "[ID: 01031500] Watershed: Piscataquis River near Dover-Foxcroft, Maine\n",
      "               Coordinates: (-69.315, 45.175)\n",
      "               Altitude: 109 m above NGVD29\n",
      "               Drainage area: 774 sqkm.\n"
     ]
    }
   ],
   "source": [
    "station_id = '01031500'\n",
    "start, end = '2000-01-01', '2010-01-21'\n",
    "piscataquis = Station(start, end, station_id=station_id, data_dir=\"examples/data\")"
   ]
  },
  {
   "cell_type": "code",
   "execution_count": 71,
   "metadata": {},
   "outputs": [],
   "source": [
    "with rasterio.MemoryFile() as memfile:\n",
    "    memfile.write(z.read(z.filelist[0].filename))\n",
    "    with memfile.open() as src:\n",
    "        ras_msk, _ = rasterio.mask.mask(src, [piscataquis.geometry])\n",
    "        nodata = src.nodata\n",
    "        with xr.open_rasterio(src) as ds:\n",
    "            ds.data = ras_msk\n",
    "            msk = ds < nodata if nodata > 0.0 else ds > nodata\n",
    "            ds = ds.where(msk, drop=True)\n",
    "            ds = ds.squeeze(\"band\", drop=True)\n",
    "            ds.name = \"eta\""
   ]
  },
  {
   "cell_type": "code",
   "execution_count": 89,
   "metadata": {},
   "outputs": [
    {
     "data": {
      "text/html": [
       "<pre>&lt;xarray.DataArray &#x27;eta&#x27; (y: 41, x: 50)&gt;\n",
       "array([[nan, nan, nan, ..., nan, nan, nan],\n",
       "       [nan, nan, nan, ..., nan, nan, nan],\n",
       "       [nan, nan, nan, ..., nan, nan, nan],\n",
       "       ...,\n",
       "       [nan, nan, nan, ..., nan, nan, nan],\n",
       "       [nan, nan, nan, ..., nan, nan, nan],\n",
       "       [nan, nan, nan, ..., nan, nan, nan]])\n",
       "Coordinates:\n",
       "  * y        (y) float64 45.45 45.44 45.43 45.42 ... 45.11 45.1 45.09 45.09\n",
       "  * x        (x) float64 -69.76 -69.75 -69.75 -69.74 ... -69.34 -69.33 -69.32\n",
       "Attributes:\n",
       "    transform:      (0.009, 0.0, -126.0, 0.0, -0.009, 49.5)\n",
       "    crs:            +init=epsg:4326\n",
       "    res:            (0.009, 0.009)\n",
       "    is_tiled:       1\n",
       "    nodatavals:     (9999.0,)\n",
       "    scales:         (1.0,)\n",
       "    offsets:        (0.0,)\n",
       "    AREA_OR_POINT:  Area\n",
       "    DataType:       Generic</pre>"
      ],
      "text/plain": [
       "<xarray.DataArray 'eta' (y: 41, x: 50)>\n",
       "array([[nan, nan, nan, ..., nan, nan, nan],\n",
       "       [nan, nan, nan, ..., nan, nan, nan],\n",
       "       [nan, nan, nan, ..., nan, nan, nan],\n",
       "       ...,\n",
       "       [nan, nan, nan, ..., nan, nan, nan],\n",
       "       [nan, nan, nan, ..., nan, nan, nan],\n",
       "       [nan, nan, nan, ..., nan, nan, nan]])\n",
       "Coordinates:\n",
       "  * y        (y) float64 45.45 45.44 45.43 45.42 ... 45.11 45.1 45.09 45.09\n",
       "  * x        (x) float64 -69.76 -69.75 -69.75 -69.74 ... -69.34 -69.33 -69.32\n",
       "Attributes:\n",
       "    transform:      (0.009, 0.0, -126.0, 0.0, -0.009, 49.5)\n",
       "    crs:            +init=epsg:4326\n",
       "    res:            (0.009, 0.009)\n",
       "    is_tiled:       1\n",
       "    nodatavals:     (9999.0,)\n",
       "    scales:         (1.0,)\n",
       "    offsets:        (0.0,)\n",
       "    AREA_OR_POINT:  Area\n",
       "    DataType:       Generic"
      ]
     },
     "execution_count": 89,
     "metadata": {},
     "output_type": "execute_result"
    }
   ],
   "source": [
    "ds.expand_dims"
   ]
  },
  {
   "cell_type": "code",
   "execution_count": 91,
   "metadata": {},
   "outputs": [],
   "source": [
    "import pandas as pd"
   ]
  },
  {
   "cell_type": "code",
   "execution_count": 93,
   "metadata": {},
   "outputs": [],
   "source": [
    "base_url = \"https://edcintl.cr.usgs.gov/downloads/sciweb1/shared//uswem/web/conus/eta/modis_eta/daily/downloads\"\n",
    "f_list =  [(d, f\"{base_url}/det{d.strftime('%Y%j')}.modisSSEBopETactual.zip\") for d in pd.date_range(start, end)]"
   ]
  }
 ],
 "metadata": {
  "kernelspec": {
   "display_name": "Python 3",
   "language": "python",
   "name": "python3"
  },
  "language_info": {
   "codemirror_mode": {
    "name": "ipython",
    "version": 3
   },
   "file_extension": ".py",
   "mimetype": "text/x-python",
   "name": "python",
   "nbconvert_exporter": "python",
   "pygments_lexer": "ipython3",
   "version": "3.7.6"
  }
 },
 "nbformat": 4,
 "nbformat_minor": 4
}
