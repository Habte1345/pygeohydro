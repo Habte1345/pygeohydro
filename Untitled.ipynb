{
 "cells": [
  {
   "cell_type": "code",
   "execution_count": 37,
   "metadata": {},
   "outputs": [],
   "source": [
    "from hydrodata import utils"
   ]
  },
  {
   "cell_type": "code",
   "execution_count": null,
   "metadata": {},
   "outputs": [],
   "source": [
    "stations = [{\"start\" : '2000-01-01',\n",
    "            \"end\" : '2015-12-31',\n",
    "            \"station_id\" : '01467087',\n",
    "            \"data_dir\" : 'examples/data',\n",
    "            \"climate\" : True,\n",
    "            \"nlcd\" : True,\n",
    "            \"years\" : {'impervious': 2011, 'cover': 2011, 'canopy': 2011},\n",
    "            \"rain_snow\" : True},\n",
    "           {\"start\" : '2000-01-01',\n",
    "            \"end\" : '2015-12-31',\n",
    "            \"coords\" : (-76.43, 41.08),\n",
    "            \"data_dir\" : 'examples/data',\n",
    "            \"climate\" : True}]"
   ]
  },
  {
   "cell_type": "code",
   "execution_count": null,
   "metadata": {},
   "outputs": [],
   "source": [
    "import time\n",
    "\n",
    "t0 = time.time()\n",
    "dpaths = utils.batch(stations)\n",
    "t1 = time.time()\n",
    "t1-t0"
   ]
  },
  {
   "cell_type": "markdown",
   "metadata": {},
   "source": [
    "with multiprocess: 102.17063426971436\n",
    "\n",
    "with ThreadPoolExecutor: 54.129507064819336\n",
    "\n",
    "with ProcessPoolExecutor: 78.2123670578003"
   ]
  }
 ],
 "metadata": {
  "kernelspec": {
   "display_name": "Python 3",
   "language": "python",
   "name": "python3"
  },
  "language_info": {
   "codemirror_mode": {
    "name": "ipython",
    "version": 3
   },
   "file_extension": ".py",
   "mimetype": "text/x-python",
   "name": "python",
   "nbconvert_exporter": "python",
   "pygments_lexer": "ipython3",
   "version": "3.7.6"
  }
 },
 "nbformat": 4,
 "nbformat_minor": 4
}
