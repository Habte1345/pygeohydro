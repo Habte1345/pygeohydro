{
 "cells": [
  {
   "cell_type": "code",
   "execution_count": 1,
   "metadata": {},
   "outputs": [],
   "source": [
    "from hydrodata import utils\n",
    "from pathlib import Path"
   ]
  },
  {
   "cell_type": "raw",
   "metadata": {},
   "source": [
    "stations = [{\"start\" : '2000-01-01',\n",
    "            \"end\" : '2015-12-31',\n",
    "            \"station_id\" : '01467087',\n",
    "            \"data_dir\" : 'examples/data',\n",
    "            \"climate\" : True,\n",
    "            \"nlcd\" : True,\n",
    "            \"years\" : {'impervious': 2011, 'cover': 2011, 'canopy': 2011},\n",
    "            \"rain_snow\" : True,\n",
    "            \"phenology\" : True},\n",
    "           {\"start\" : '2000-01-01',\n",
    "            \"end\" : '2015-12-31',\n",
    "            \"coords\" : (-76.43, 41.08),\n",
    "            \"data_dir\" : 'examples/data',\n",
    "            \"climate\" : True}]"
   ]
  },
  {
   "cell_type": "raw",
   "metadata": {},
   "source": [
    "import time\n",
    "\n",
    "t0 = time.time()\n",
    "dpaths = utils.batch(stations)\n",
    "t1 = time.time()\n",
    "t1-t0"
   ]
  },
  {
   "cell_type": "markdown",
   "metadata": {},
   "source": [
    "with multiprocess: 102.17063426971436\n",
    "\n",
    "with ThreadPoolExecutor: 54.129507064819336\n",
    "\n",
    "with ProcessPoolExecutor: 78.2123670578003"
   ]
  },
  {
   "cell_type": "code",
   "execution_count": null,
   "metadata": {},
   "outputs": [],
   "source": [
    "from hydrodata.datasets import deymet_singlepixel\n",
    "\n",
    "lon, lat = -75.0, 40.0\n",
    "start = '2011-04-21'\n",
    "end = '2011-05-21'\n",
    "singlepixel = deymet_singlepixel(lon, lat, start, end, pet=True, pheonolgy=False)"
   ]
  },
  {
   "cell_type": "code",
   "execution_count": 46,
   "metadata": {},
   "outputs": [],
   "source": [
    "import numpy as np\n",
    "import pandas as pd\n",
    "import xarray as xr"
   ]
  },
  {
   "cell_type": "code",
   "execution_count": 187,
   "metadata": {},
   "outputs": [],
   "source": [
    "from hydrodata.datasets import daymet_gridded\n",
    "\n",
    "bbox = [-107.55950984,   35.97227243, -105.12966542,   37.97470017]\n",
    "start_date = '2011-04-21'\n",
    "end_date = '2011-05-21'\n",
    "variables = [\"tmin\", \"tmax\", \"prcp\", \"vp\", \"srad\", \"dayl\"]\n",
    "gridded = daymet_gridded(start_date, end_date, variables, bbox)"
   ]
  },
  {
   "cell_type": "code",
   "execution_count": 188,
   "metadata": {},
   "outputs": [],
   "source": [
    "coords = [(i, j) for i, j in zip(gridded.sel(time=start_date).lon.values.flatten(),\n",
    "                                 gridded.sel(time=start_date).lat.values.flatten())]\n",
    "margine = 0.1\n",
    "bbox = [float(gridded.lon.min().values) - margine,\n",
    "        float(gridded.lat.min().values) - margine,\n",
    "        float(gridded.lon.max().values) + margine,\n",
    "        float(gridded.lat.max().values) + margine]"
   ]
  },
  {
   "cell_type": "markdown",
   "metadata": {},
   "source": [
    "\\begin{equation}\n",
    "\\mathrm{ET}_{\\mathrm{o}}=\\frac{0.408 \\Delta\\left(\\mathrm{R}_{\\mathrm{n}}-\\mathrm{G}\\right)+\\gamma \\frac{900}{\\mathrm{T}+273} \\mathrm{u}_{2}\\left(\\mathrm{e}_{\\mathrm{s}}-\\mathrm{e}_{\\mathrm{a}}\\right)}{\\Delta+\\gamma\\left(1+0.34 \\mathrm{u}_{2}\\right)}\n",
    "\\end{equation}\n",
    "\n",
    "where:\n",
    "* $ET_o$ reference evapotranspiration [mm day$^{-1}$],\n",
    "* $R_n$ net radiation at the crop surface [MJ m$^{-2}$ day$^{-1}$],\n",
    "* $G$ soil heat flux density [MJ m$^{-2}$ day$^{-1}$],\n",
    "* $T$ mean daily air temperature at 2 m height [°C],\n",
    "* $u_2$ wind speed at 2 m height [m s$^{-1}$],\n",
    "* $e_s$ saturation vapour pressure [kPa],\n",
    "* $e_a$ actual vapour pressure [kPa],\n",
    "* $e_s$ - ea saturation vapour pressure deficit [kPa],\n",
    "* $D$ slope vapour pressure curve [kPa °C$^{-1}$],\n",
    "* $g$ psychrometric constant [kPa °C$^{-1}$]."
   ]
  },
  {
   "cell_type": "code",
   "execution_count": 189,
   "metadata": {},
   "outputs": [],
   "source": [
    "dates = gridded.time"
   ]
  },
  {
   "cell_type": "code",
   "execution_count": 190,
   "metadata": {},
   "outputs": [],
   "source": [
    "elevations = utils.get_elevation_bybbox(bbox, coords).reshape(gridded.dims['y'], gridded.dims['x'])"
   ]
  },
  {
   "cell_type": "code",
   "execution_count": 191,
   "metadata": {},
   "outputs": [],
   "source": [
    "gridded['elevation'] = ({'y' : gridded.dims['y'], 'x' : gridded.dims['x']}, elevations)"
   ]
  },
  {
   "cell_type": "code",
   "execution_count": 192,
   "metadata": {},
   "outputs": [],
   "source": [
    "gridded['tmean'] = 0.5*(gridded['tmax'] + gridded['tmin'])"
   ]
  },
  {
   "cell_type": "code",
   "execution_count": 297,
   "metadata": {},
   "outputs": [],
   "source": [
    "gridded['delta'] = 4098*(0.6108*np.exp(17.27*gridded['tmean']/(gridded['tmean'] + 237.3)))/((gridded['tmean'] + 237.3)**2)"
   ]
  },
  {
   "cell_type": "code",
   "execution_count": 194,
   "metadata": {},
   "outputs": [],
   "source": [
    "lat = gridded.sel(time=start_date).lat"
   ]
  },
  {
   "cell_type": "code",
   "execution_count": 266,
   "metadata": {},
   "outputs": [],
   "source": [
    "gridded['time'] = np.float32(pd.to_datetime(gridded.time.values).dayofyear)"
   ]
  },
  {
   "cell_type": "code",
   "execution_count": 196,
   "metadata": {},
   "outputs": [],
   "source": [
    "z_u = 2; K_rs = 0.16; a_s = 0.25; b_s = 0.5; alb = 0.23"
   ]
  },
  {
   "cell_type": "code",
   "execution_count": 298,
   "metadata": {},
   "outputs": [],
   "source": [
    "R_ns = (1.0 - alb)*gridded['srad']\n",
    "R_so = (0.75 + 2*10**(-5)*gridded['elevation'])*R_a\n",
    "R_nl = (4.903*10**(-9))*(((gridded['tmax'] + 273.16)**4 + (gridded['tmin'] + 273.16) **4)/2)*(0.34-0.14*(gridded['vp'])**0.5)*((1.35*R_s/R_so) - 0.35)\n",
    "gridded['R_n'] = R_ns - R_nl"
   ]
  },
  {
   "cell_type": "code",
   "execution_count": 198,
   "metadata": {},
   "outputs": [],
   "source": [
    "G = 0.0\n",
    "U_2 = 2.0"
   ]
  },
  {
   "cell_type": "code",
   "execution_count": 299,
   "metadata": {},
   "outputs": [],
   "source": [
    "e_max = 0.6108*np.exp(17.27*gridded['tmax']/(gridded['tmax']+237.3))\n",
    "e_min = 0.6108*np.exp(17.27*gridded['tmin']/(gridded['tmin']+237.3))\n",
    "gridded['e_s'] = (e_max + e_min)*0.5"
   ]
  },
  {
   "cell_type": "code",
   "execution_count": 300,
   "metadata": {},
   "outputs": [],
   "source": [
    "P = 101.3*((293 - 0.0065*gridded['elevation'])/293)**5.26\n",
    "gridded['gamma'] = (0.665*10**(-3))*P"
   ]
  },
  {
   "cell_type": "code",
   "execution_count": 302,
   "metadata": {},
   "outputs": [],
   "source": [
    "gridded['pet'] = (0.408*gridded['delta']*(gridded['R_n'] - G) + gridded['gamma']*900.0 / (gridded['tmean'] + 273.0) * U_2*(gridded['e_s'] - gridded['vp'])) \\\n",
    "                 / (gridded['delta'] + gridded['gamma']*(1 + 0.34*U_2))"
   ]
  },
  {
   "cell_type": "code",
   "execution_count": 303,
   "metadata": {},
   "outputs": [],
   "source": [
    "gridded['time'] = dates"
   ]
  },
  {
   "cell_type": "code",
   "execution_count": 304,
   "metadata": {},
   "outputs": [
    {
     "data": {
      "text/html": [
       "<pre>&lt;xarray.Dataset&gt;\n",
       "Dimensions:                  (time: 31, x: 224, y: 229)\n",
       "Coordinates:\n",
       "  * time                     (time) datetime64[ns] 2011-04-21T12:00:00 ... 2011-05-21T12:00:00\n",
       "  * y                        (y) float32 -451.0 -452.0 -453.0 ... -678.0 -679.0\n",
       "  * x                        (x) float32 -654.25 -653.25 ... -432.25 -431.25\n",
       "Data variables:\n",
       "    lat                      (y, x) float32 37.959328 37.9602 ... 35.98372\n",
       "    lambert_conformal_conic  int16 -32767\n",
       "    lon                      (y, x) float32 -107.785675 ... -104.97838\n",
       "    tmin                     (time, y, x) float32 -3.0 -4.0 -4.0 ... 4.0 4.0 4.0\n",
       "    tmax                     (time, y, x) float32 7.5 5.5 5.5 ... 21.0 20.5 20.5\n",
       "    prcp                     (time, y, x) float32 ...\n",
       "    vp                       (time, y, x) float32 480.0 440.0 ... 280.0 280.0\n",
       "    srad                     (time, y, x) float32 582.4 566.4 ... 508.8 512.0\n",
       "    dayl                     (time, y, x) float32 47692.8 47692.8 ... 50457.6\n",
       "    elevation                (y, x) float32 3592.0 3905.0 ... 2170.0 2205.0\n",
       "    tmean                    (time, y, x) float32 2.25 0.75 0.75 ... 12.25 12.25\n",
       "    pet                      (time, y, x) float32 37366.258 ... 41875.496\n",
       "    delta                    (time, y, x) float32 0.051300988 ... 0.093827814\n",
       "    R_n                      (time, y, x) float32 228639.08 ... 200101.42\n",
       "    e_s                      (time, y, x) float32 0.76320326 ... 1.6124513\n",
       "    gamma                    (y, x) float32 0.043524582 ... 0.051744185</pre>"
      ],
      "text/plain": [
       "<xarray.Dataset>\n",
       "Dimensions:                  (time: 31, x: 224, y: 229)\n",
       "Coordinates:\n",
       "  * time                     (time) datetime64[ns] 2011-04-21T12:00:00 ... 2011-05-21T12:00:00\n",
       "  * y                        (y) float32 -451.0 -452.0 -453.0 ... -678.0 -679.0\n",
       "  * x                        (x) float32 -654.25 -653.25 ... -432.25 -431.25\n",
       "Data variables:\n",
       "    lat                      (y, x) float32 37.959328 37.9602 ... 35.98372\n",
       "    lambert_conformal_conic  int16 -32767\n",
       "    lon                      (y, x) float32 -107.785675 ... -104.97838\n",
       "    tmin                     (time, y, x) float32 -3.0 -4.0 -4.0 ... 4.0 4.0 4.0\n",
       "    tmax                     (time, y, x) float32 7.5 5.5 5.5 ... 21.0 20.5 20.5\n",
       "    prcp                     (time, y, x) float32 ...\n",
       "    vp                       (time, y, x) float32 480.0 440.0 ... 280.0 280.0\n",
       "    srad                     (time, y, x) float32 582.4 566.4 ... 508.8 512.0\n",
       "    dayl                     (time, y, x) float32 47692.8 47692.8 ... 50457.6\n",
       "    elevation                (y, x) float32 3592.0 3905.0 ... 2170.0 2205.0\n",
       "    tmean                    (time, y, x) float32 2.25 0.75 0.75 ... 12.25 12.25\n",
       "    pet                      (time, y, x) float32 37366.258 ... 41875.496\n",
       "    delta                    (time, y, x) float32 0.051300988 ... 0.093827814\n",
       "    R_n                      (time, y, x) float32 228639.08 ... 200101.42\n",
       "    e_s                      (time, y, x) float32 0.76320326 ... 1.6124513\n",
       "    gamma                    (y, x) float32 0.043524582 ... 0.051744185"
      ]
     },
     "execution_count": 304,
     "metadata": {},
     "output_type": "execute_result"
    }
   ],
   "source": [
    "gridded"
   ]
  },
  {
   "cell_type": "code",
   "execution_count": null,
   "metadata": {},
   "outputs": [],
   "source": [
    "from hydrodata.datasets import NLDI\n",
    "\n",
    "wshed = NLDI(station_id=\"08279500\")\n",
    "starting_comid = wshed.comid\n",
    "basin = wshed.basin\n",
    "tribs = wshed.get_river_network(navigation=\"upstreamTributaries\")\n",
    "main = wshed.get_river_network(navigation=\"upstreamMain\")\n",
    "# main_flowline = wshed.get_nhdplus_byid(comids=main.index.values)\n",
    "# tribs_flowline = wshed.get_nhdplus_byid(comids=tribs.index.values)\n",
    "bbox_flowline = wshed.get_nhdplus_bybox(bbox=basin.bounds.values[0])\n",
    "stations = wshed.get_stations()\n",
    "stations_upto_150 = wshed.get_stations(navigation=\"upstreamMain\", distance=150)"
   ]
  },
  {
   "cell_type": "code",
   "execution_count": null,
   "metadata": {},
   "outputs": [],
   "source": [
    "import matplotlib as mpl\n",
    "\n",
    "mpl.rcParams['figure.dpi'] = 300\n",
    "mpl.rcParams['figure.figsize'] = [10, 10]"
   ]
  },
  {
   "cell_type": "code",
   "execution_count": null,
   "metadata": {},
   "outputs": [],
   "source": [
    "ax = basin.plot(color='white', edgecolor='black', zorder=1)\n",
    "tribs.plot(ax=ax, label='Tributaries', zorder=2)\n",
    "main.plot(ax=ax, color='green', lw=3, label='Main', zorder=3)\n",
    "stations.plot(ax=ax, color='black', label='All stations', marker='s', zorder=4)\n",
    "stations_upto_150.plot(ax=ax, color='red', label='Stations up to 150 km upstream of main', marker='*', zorder=5)\n",
    "ax.legend(loc='best');\n",
    "# ax.figure.savefig('basin.png')"
   ]
  },
  {
   "cell_type": "code",
   "execution_count": null,
   "metadata": {},
   "outputs": [],
   "source": [
    "from owslib.wms import WebMapService"
   ]
  },
  {
   "cell_type": "code",
   "execution_count": null,
   "metadata": {},
   "outputs": [],
   "source": [
    "url = \"https://www.mrlc.gov/geoserver/mrlc_download/wms?service=WMS,request=GetCapabilities\""
   ]
  },
  {
   "cell_type": "code",
   "execution_count": null,
   "metadata": {},
   "outputs": [],
   "source": [
    "wms = WebMapService(url, version=\"1.3.0\")"
   ]
  },
  {
   "cell_type": "code",
   "execution_count": null,
   "metadata": {},
   "outputs": [],
   "source": [
    "list(wms.contents)"
   ]
  },
  {
   "cell_type": "code",
   "execution_count": null,
   "metadata": {},
   "outputs": [],
   "source": [
    "import rasterio\n",
    "import rasterio.mask\n",
    "from rasterio.plot import show\n",
    "import matplotlib.pyplot as plt"
   ]
  },
  {
   "cell_type": "code",
   "execution_count": null,
   "metadata": {},
   "outputs": [],
   "source": [
    "bbox = [-75.19327604018878, 40.00705187503387, -75.07818476502987, 40.123941407666074]"
   ]
  },
  {
   "cell_type": "code",
   "execution_count": null,
   "metadata": {},
   "outputs": [],
   "source": [
    "width = 2000\n",
    "height = int(np.abs(bbox[1] - bbox[3]) / np.abs(bbox[0] - bbox[2]) * width)"
   ]
  },
  {
   "cell_type": "code",
   "execution_count": null,
   "metadata": {},
   "outputs": [],
   "source": [
    "img = wms.getmap(\n",
    "    layers=['NLCD_2011_Tree_Canopy_L48', 'NLCD_2011_Land_Cover_Science_product_L48', 'NLCD_2011_Impervious_L48'],\n",
    "    srs=\"epsg:4326\",\n",
    "    bbox=bbox,\n",
    "    size=(width, height),\n",
    "    format=\"image/geotiff\",\n",
    "    transparent=True,\n",
    ")"
   ]
  },
  {
   "cell_type": "code",
   "execution_count": null,
   "metadata": {},
   "outputs": [],
   "source": [
    "with open('nlcd.geotif', \"wb\") as out:\n",
    "    with rasterio.MemoryFile() as memfile:\n",
    "        memfile.write(img.read())\n",
    "        with memfile.open() as dataset:\n",
    "#             data = dataset.read()\n",
    "            out_image, out_transform = rasterio.mask.mask(\n",
    "                dataset, [geom], crop=True\n",
    "            )\n",
    "            out_meta = src.meta\n",
    "            out_meta.update(\n",
    "                {\n",
    "                    \"driver\": \"GTiff\",\n",
    "                    \"height\": out_image.shape[1],\n",
    "                    \"width\": out_image.shape[2],\n",
    "                    \"transform\": out_transform,\n",
    "                    \"layer 1\" : 'Canoy 2011',\n",
    "                    \"layer 2\" : 'Cover 2011',\n",
    "                    \"layer 3\" : 'Impervious 2011'\n",
    "                }\n",
    "            )\n",
    "\n",
    "with rasterio.open('nlcd.geotif', \"w\", **out_meta) as dest:\n",
    "    dest.write(out_image)"
   ]
  },
  {
   "cell_type": "code",
   "execution_count": null,
   "metadata": {},
   "outputs": [],
   "source": [
    "out_meta"
   ]
  },
  {
   "cell_type": "code",
   "execution_count": null,
   "metadata": {},
   "outputs": [],
   "source": [
    "np.unique(out_image[1])"
   ]
  },
  {
   "cell_type": "code",
   "execution_count": null,
   "metadata": {},
   "outputs": [],
   "source": [
    "fig, (ax1, ax2, ax3) = plt.subplots(1, 3, figsize=(21, 7), dpi=300)\n",
    "show(out_image[0], ax=ax1, title=f'Canopy 2011')\n",
    "show(out_image[1], ax=ax2, title=f'Cover 2011')\n",
    "show(out_image[2], ax=ax3, title=f'Impervious 2011');"
   ]
  }
 ],
 "metadata": {
  "kernelspec": {
   "display_name": "Python 3",
   "language": "python",
   "name": "python3"
  },
  "language_info": {
   "codemirror_mode": {
    "name": "ipython",
    "version": 3
   },
   "file_extension": ".py",
   "mimetype": "text/x-python",
   "name": "python",
   "nbconvert_exporter": "python",
   "pygments_lexer": "ipython3",
   "version": "3.8.1"
  }
 },
 "nbformat": 4,
 "nbformat_minor": 4
}
